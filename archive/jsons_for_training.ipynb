{
 "cells": [
  {
   "cell_type": "markdown",
   "metadata": {},
   "source": [
    "### Creating Jsons\n",
    "\n",
    "Reformatting jsons for training / testing data, for use in training [Mask RCNN](https://github.com/matterport/Mask_RCNN) model on ALICE data."
   ]
  },
  {
   "cell_type": "markdown",
   "metadata": {},
   "source": [
    "#### Imports"
   ]
  },
  {
   "cell_type": "code",
   "execution_count": 9,
   "metadata": {},
   "outputs": [],
   "source": [
    "import os\n",
    "import json\n",
    "import skimage.io as io\n",
    "import re\n",
    "import pandas as pd"
   ]
  },
  {
   "cell_type": "markdown",
   "metadata": {},
   "source": [
    "#### Loading Json Data"
   ]
  },
  {
   "cell_type": "code",
   "execution_count": 2,
   "metadata": {},
   "outputs": [],
   "source": [
    "pth = \"Data//Original_Data//Labels//all_labels.json\"\n",
    "f = open(pth)\n",
    "data = json.load(f)"
   ]
  },
  {
   "cell_type": "code",
   "execution_count": 3,
   "metadata": {},
   "outputs": [],
   "source": [
    "file_refs = list(data['_via_img_metadata'].keys())"
   ]
  },
  {
   "cell_type": "code",
   "execution_count": 4,
   "metadata": {},
   "outputs": [],
   "source": [
    "sizes = [a['size'] for a in data['_via_img_metadata'].values()]"
   ]
  },
  {
   "cell_type": "code",
   "execution_count": 7,
   "metadata": {},
   "outputs": [],
   "source": [
    "all_names = []\n",
    "\n",
    "for u,file in enumerate(file_refs):\n",
    "    k = re.search(str(sizes[u]),file).span()[0]\n",
    "    all_names.append(file[:k])"
   ]
  },
  {
   "cell_type": "code",
   "execution_count": 10,
   "metadata": {},
   "outputs": [],
   "source": [
    "index = pd.DataFrame([all_names,sizes,file_refs]).T\n",
    "index = index.rename(columns={0:\"Name\",1:\"Size\",2:\"Ref\"})"
   ]
  },
  {
   "cell_type": "markdown",
   "metadata": {},
   "source": [
    "#### Format Dictionaries"
   ]
  },
  {
   "cell_type": "code",
   "execution_count": 21,
   "metadata": {},
   "outputs": [],
   "source": [
    "def get_new_dict(path,data,index,image_test=True):\n",
    "    names = []\n",
    "    errors = []\n",
    "    # Retrieve names of files in path:\n",
    "    for file in os.listdir(path):\n",
    "        if \"json\" not in file:\n",
    "            if image_test == True:\n",
    "                # Test whether images will load correctly.\n",
    "                # This step is in needed in case some images have been not correctly uploaded.\n",
    "                try:\n",
    "                    im = io.imread(path+\"//\"+file)\n",
    "                    names.append(file)\n",
    "                except:\n",
    "                    errors.append(file)\n",
    "            else:\n",
    "                names.append(file)\n",
    "    if image_test == True:\n",
    "        print(\"Total errors: \"+str(len(errors)))\n",
    "    # Get alternative names from index:\n",
    "    names_updated = [index[index['Name']==nt].Ref.iloc[0] for nt in names]\n",
    "    # Create new dictionary:\n",
    "    data_new = {}\n",
    "    for nm in names_updated:\n",
    "        a = data['_via_img_metadata'][nm]\n",
    "        data_new[nm] = a\n",
    "        \n",
    "    return data_new"
   ]
  },
  {
   "cell_type": "code",
   "execution_count": 22,
   "metadata": {},
   "outputs": [
    {
     "name": "stdout",
     "output_type": "stream",
     "text": [
      "Total errors: 0\n"
     ]
    }
   ],
   "source": [
    "train_dict = get_new_dict(\"Data//Original_Data//All_Images//train\",data,index,image_test=True)"
   ]
  },
  {
   "cell_type": "code",
   "execution_count": 26,
   "metadata": {},
   "outputs": [
    {
     "name": "stdout",
     "output_type": "stream",
     "text": [
      "Total errors: 1\n"
     ]
    }
   ],
   "source": [
    "val_dict = get_new_dict(\"Data//Original_Data//All_Images//val\",data,index,image_test=True)"
   ]
  },
  {
   "cell_type": "code",
   "execution_count": 27,
   "metadata": {},
   "outputs": [],
   "source": [
    "pd.DataFrame(train_dict).to_json('train_dict.json')\n",
    "pd.DataFrame(val_dict).to_json('val_dict.json')"
   ]
  },
  {
   "cell_type": "code",
   "execution_count": null,
   "metadata": {},
   "outputs": [],
   "source": []
  }
 ],
 "metadata": {
  "kernelspec": {
   "display_name": "Python 3",
   "language": "python",
   "name": "python3"
  },
  "language_info": {
   "codemirror_mode": {
    "name": "ipython",
    "version": 3
   },
   "file_extension": ".py",
   "mimetype": "text/x-python",
   "name": "python",
   "nbconvert_exporter": "python",
   "pygments_lexer": "ipython3",
   "version": "3.7.1"
  }
 },
 "nbformat": 4,
 "nbformat_minor": 4
}
